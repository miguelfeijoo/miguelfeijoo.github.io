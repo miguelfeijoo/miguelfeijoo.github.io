{
 "cells": [
  {
   "cell_type": "code",
   "execution_count": 1,
   "metadata": {},
   "outputs": [],
   "source": [
    "import pandas as pd\n",
    "import calendar"
   ]
  },
  {
   "cell_type": "code",
   "execution_count": 2,
   "metadata": {},
   "outputs": [],
   "source": [
    "homicidios2017= 'C:/Users/Lenovo/Documents/Universidad de los Andes/Visual Analytics - 201820/Tarea 4/miguelfeijoo.github.io/Delitos2018/data/Homicidios_2017.csv'\n",
    "homicidios2018= 'C:/Users/Lenovo/Documents/Universidad de los Andes/Visual Analytics - 201820/Tarea 4/miguelfeijoo.github.io/Delitos2018/data/Homicidios-2018.csv'\n",
    "amenazas2017= 'C:/Users/Lenovo/Documents/Universidad de los Andes/Visual Analytics - 201820/Tarea 4/miguelfeijoo.github.io/Delitos2018/data/Amenazas_2017.csv'\n",
    "amenazas2018= 'C:/Users/Lenovo/Documents/Universidad de los Andes/Visual Analytics - 201820/Tarea 4/miguelfeijoo.github.io/Delitos2018/data/Amenazas-2018.csv'\n",
    "delSexuales2017= 'C:/Users/Lenovo/Documents/Universidad de los Andes/Visual Analytics - 201820/Tarea 4/miguelfeijoo.github.io/Delitos2018/data/Delitos_sexuales_2017.csv'\n",
    "delSexuales2018= 'C:/Users/Lenovo/Documents/Universidad de los Andes/Visual Analytics - 201820/Tarea 4/miguelfeijoo.github.io/Delitos2018/data/Delitos-sexuales-2018.csv'"
   ]
  },
  {
   "cell_type": "code",
   "execution_count": 3,
   "metadata": {},
   "outputs": [],
   "source": [
    "df_homicidios2017 = pd.read_csv(homicidios2017)\n",
    "del df_homicidios2017['Código DANE']\n",
    "df_homicidios2018 = pd.read_csv(homicidios2018)\n",
    "del df_homicidios2018['Código DANE']\n",
    "df_amenazas2017 = pd.read_csv(amenazas2017)\n",
    "del df_amenazas2017['Código DANE']\n",
    "df_amenazas2018 = pd.read_csv(amenazas2018)\n",
    "del df_amenazas2018['Código DANE']\n",
    "df_delSexuales2017 = pd.read_csv(delSexuales2017)\n",
    "del df_delSexuales2017['Código DANE']\n",
    "df_delSexuales2018 = pd.read_csv(delSexuales2018)\n",
    "del df_delSexuales2018['Código DANE']"
   ]
  },
  {
   "cell_type": "code",
   "execution_count": 4,
   "metadata": {},
   "outputs": [],
   "source": [
    "df_homicidios2017['Fecha']=pd.to_datetime(df_homicidios2017['Fecha'], format=\"%d/%m/%Y\")\n",
    "df_homicidios2018['Fecha']=pd.to_datetime(df_homicidios2018['Fecha'], format=\"%d/%m/%Y\")\n",
    "df_amenazas2017_2 = pd.DataFrame(df_amenazas2017.Fecha.str.split(' ',1).tolist(),\n",
    "                                   columns = ['Fecha','Hora'])\n",
    "df_amenazas2017['Fecha']=df_amenazas2017_2.Fecha\n",
    "df_amenazas2017['Fecha']=pd.to_datetime(df_amenazas2017['Fecha'], format=\"%m/%d/%Y\")\n",
    "df_amenazas2018_2 = pd.DataFrame(df_amenazas2018.Fecha.str.split(' ',1).tolist(),\n",
    "                                   columns = ['Fecha','Hora'])\n",
    "df_amenazas2018['Fecha']=df_amenazas2018_2.Fecha\n",
    "df_amenazas2018['Fecha']=pd.to_datetime(df_amenazas2018['Fecha'], format=\"%m/%d/%Y\")\n",
    "df_delSexuales2017_2 = pd.DataFrame(df_delSexuales2017.Fecha.str.split(' ',1).tolist(),\n",
    "                                   columns = ['Fecha','Hora'])\n",
    "df_delSexuales2017['Fecha']=df_delSexuales2017_2.Fecha\n",
    "df_delSexuales2017['Fecha']=pd.to_datetime(df_delSexuales2017['Fecha'], format=\"%m/%d/%Y\")\n",
    "df_delSexuales2018_2 = pd.DataFrame(df_delSexuales2018.Fecha.str.split(' ',1).tolist(),\n",
    "                                   columns = ['Fecha','Hora'])\n",
    "df_delSexuales2018['Fecha']=df_delSexuales2018_2.Fecha\n",
    "df_delSexuales2018['Fecha']=pd.to_datetime(df_delSexuales2018['Fecha'], format=\"%m/%d/%Y\")"
   ]
  },
  {
   "cell_type": "code",
   "execution_count": 5,
   "metadata": {},
   "outputs": [],
   "source": [
    "df_homicidios2017_depto=df_homicidios2017.groupby([\"Fecha\",\"Departamento\"])['Cantidad'].sum().reset_index(name=\"CantidadTotal\")\n",
    "df_homicidios2017_muni=df_homicidios2017.groupby([\"Fecha\",\"Municipio\"])['Cantidad'].sum().reset_index(name=\"CantidadTotal\")\n",
    "df_homicidios2017_zona=df_homicidios2017.groupby([\"Fecha\",\"Zona\"])['Cantidad'].sum().reset_index(name=\"CantidadTotal\")\n",
    "df_homicidios2017_sexo=df_homicidios2017.groupby([\"Fecha\",\"Sexo\"])['Cantidad'].sum().reset_index(name=\"CantidadTotal\")\n",
    "df_homicidios2017_total=df_homicidios2017.groupby([\"Fecha\"])['Cantidad'].sum().reset_index(name=\"CantidadTotal\")\n",
    "\n",
    "\n",
    "df_homicidios2018_depto=df_homicidios2018.groupby([\"Fecha\",\"Departamento\"])['Cantidad'].sum().reset_index(name=\"CantidadTotal\")\n",
    "df_homicidios2018_muni=df_homicidios2018.groupby([\"Fecha\",\"Municipio\"])['Cantidad'].sum().reset_index(name=\"CantidadTotal\")\n",
    "df_homicidios2018_zona=df_homicidios2018.groupby([\"Fecha\",\"Zona\"])['Cantidad'].sum().reset_index(name=\"CantidadTotal\")\n",
    "df_homicidios2018_sexo=df_homicidios2018.groupby([\"Fecha\",\"Sexo\"])['Cantidad'].sum().reset_index(name=\"CantidadTotal\")\n",
    "df_homicidios2018_total=df_homicidios2018.groupby([\"Fecha\"])['Cantidad'].sum().reset_index(name=\"CantidadTotal\")\n",
    "\n",
    "\n",
    "df_amenazas2017_depto=df_amenazas2017.groupby([\"Fecha\",\"Departamento\"])['Cantidad'].sum().reset_index(name=\"CantidadTotal\")\n",
    "df_amenazas2017_muni=df_amenazas2017.groupby([\"Fecha\",\"Municipio\"])['Cantidad'].sum().reset_index(name=\"CantidadTotal\")\n",
    "df_amenazas2017_zona=df_amenazas2017.groupby([\"Fecha\",\"Zona\"])['Cantidad'].sum().reset_index(name=\"CantidadTotal\")\n",
    "df_amenazas2017_sexo=df_amenazas2017.groupby([\"Fecha\",\"Sexo\"])['Cantidad'].sum().reset_index(name=\"CantidadTotal\")\n",
    "df_amenazas2017_total=df_amenazas2017.groupby([\"Fecha\"])['Cantidad'].sum().reset_index(name=\"CantidadTotal\")\n",
    "\n",
    "\n",
    "df_amenazas2018_depto=df_amenazas2018.groupby([\"Fecha\",\"Departamento\"])['Cantidad'].sum().reset_index(name=\"CantidadTotal\")\n",
    "df_amenazas2018_muni=df_amenazas2018.groupby([\"Fecha\",\"Municipio\"])['Cantidad'].sum().reset_index(name=\"CantidadTotal\")\n",
    "df_amenazas2018_zona=df_amenazas2018.groupby([\"Fecha\",\"Zona\"])['Cantidad'].sum().reset_index(name=\"CantidadTotal\")\n",
    "df_amenazas2018_sexo=df_amenazas2018.groupby([\"Fecha\",\"Sexo\"])['Cantidad'].sum().reset_index(name=\"CantidadTotal\")\n",
    "df_amenazas2018_total=df_amenazas2018.groupby([\"Fecha\"])['Cantidad'].sum().reset_index(name=\"CantidadTotal\")\n",
    "\n",
    "\n",
    "df_delSexuales2017_depto=df_delSexuales2017.groupby([\"Fecha\",\"Departamento\"])['Cantidad'].sum().reset_index(name=\"CantidadTotal\")\n",
    "df_delSexuales2017_muni=df_delSexuales2017.groupby([\"Fecha\",\"Municipio\"])['Cantidad'].sum().reset_index(name=\"CantidadTotal\")\n",
    "df_delSexuales2017_zona=df_delSexuales2017.groupby([\"Fecha\",\"Zona\"])['Cantidad'].sum().reset_index(name=\"CantidadTotal\")\n",
    "df_delSexuales2017_sexo=df_delSexuales2017.groupby([\"Fecha\",\"Sexo\"])['Cantidad'].sum().reset_index(name=\"CantidadTotal\")\n",
    "df_delSexuales2017_total=df_delSexuales2017.groupby([\"Fecha\"])['Cantidad'].sum().reset_index(name=\"CantidadTotal\")\n",
    "\n",
    "\n",
    "df_delSexuales2018_depto=df_delSexuales2018.groupby([\"Fecha\",\"Departamento\"])['Cantidad'].sum().reset_index(name=\"CantidadTotal\")\n",
    "df_delSexuales2018_muni=df_delSexuales2018.groupby([\"Fecha\",\"Municipio\"])['Cantidad'].sum().reset_index(name=\"CantidadTotal\")\n",
    "df_delSexuales2018_zona=df_delSexuales2018.groupby([\"Fecha\",\"Zona\"])['Cantidad'].sum().reset_index(name=\"CantidadTotal\")\n",
    "df_delSexuales2018_sexo=df_delSexuales2018.groupby([\"Fecha\",\"Sexo\"])['Cantidad'].sum().reset_index(name=\"CantidadTotal\")\n",
    "df_delSexuales2018_total=df_delSexuales2018.groupby([\"Fecha\"])['Cantidad'].sum().reset_index(name=\"CantidadTotal\")"
   ]
  },
  {
   "cell_type": "code",
   "execution_count": 6,
   "metadata": {},
   "outputs": [],
   "source": [
    "df_homicidios2017_depto.to_csv('C:/Users/Lenovo/Documents/Universidad de los Andes/Visual Analytics - 201820/Tarea 4/miguelfeijoo.github.io/Delitos2018/data/processed/df_homicidios2017_depto.csv', encoding='utf-8', index=False)\n",
    "df_homicidios2017_muni.to_csv('C:/Users/Lenovo/Documents/Universidad de los Andes/Visual Analytics - 201820/Tarea 4/miguelfeijoo.github.io/Delitos2018/data/processed/df_homicidios2017_muni.csv', encoding='utf-8', index=False)\n",
    "df_homicidios2017_zona.to_csv('C:/Users/Lenovo/Documents/Universidad de los Andes/Visual Analytics - 201820/Tarea 4/miguelfeijoo.github.io/Delitos2018/data/processed/df_homicidios2017_zona.csv', encoding='utf-8', index=False)\n",
    "df_homicidios2017_sexo.to_csv('C:/Users/Lenovo/Documents/Universidad de los Andes/Visual Analytics - 201820/Tarea 4/miguelfeijoo.github.io/Delitos2018/data/processed/df_homicidios2017_sexo.csv', encoding='utf-8', index=False)\n",
    "df_homicidios2017_total.to_csv('C:/Users/Lenovo/Documents/Universidad de los Andes/Visual Analytics - 201820/Tarea 4/miguelfeijoo.github.io/Delitos2018/data/processed/df_homicidios2017_total.csv', encoding='utf-8', index=False)\n",
    "\n",
    "df_homicidios2018_depto.to_csv('C:/Users/Lenovo/Documents/Universidad de los Andes/Visual Analytics - 201820/Tarea 4/miguelfeijoo.github.io/Delitos2018/data/processed/df_homicidios2018_depto.csv', encoding='utf-8', index=False)\n",
    "df_homicidios2018_muni.to_csv('C:/Users/Lenovo/Documents/Universidad de los Andes/Visual Analytics - 201820/Tarea 4/miguelfeijoo.github.io/Delitos2018/data/processed/df_homicidios2018_muni.csv', encoding='utf-8', index=False)\n",
    "df_homicidios2018_zona.to_csv('C:/Users/Lenovo/Documents/Universidad de los Andes/Visual Analytics - 201820/Tarea 4/miguelfeijoo.github.io/Delitos2018/data/processed/df_homicidios2018_zona.csv', encoding='utf-8', index=False)\n",
    "df_homicidios2018_sexo.to_csv('C:/Users/Lenovo/Documents/Universidad de los Andes/Visual Analytics - 201820/Tarea 4/miguelfeijoo.github.io/Delitos2018/data/processed/df_homicidios2018_sexo.csv', encoding='utf-8', index=False)\n",
    "df_homicidios2018_total.to_csv('C:/Users/Lenovo/Documents/Universidad de los Andes/Visual Analytics - 201820/Tarea 4/miguelfeijoo.github.io/Delitos2018/data/processed/df_homicidios2018_total.csv', encoding='utf-8', index=False)\n",
    "\n",
    "\n",
    "\n",
    "\n"
   ]
  },
  {
   "cell_type": "code",
   "execution_count": 7,
   "metadata": {},
   "outputs": [],
   "source": [
    "df_amenazas2017_depto.to_csv('C:/Users/Lenovo/Documents/Universidad de los Andes/Visual Analytics - 201820/Tarea 4/miguelfeijoo.github.io/Delitos2018/data/processed/df_amenazas2017_depto.csv', encoding='utf-8', index=False)\n",
    "df_amenazas2017_muni.to_csv('C:/Users/Lenovo/Documents/Universidad de los Andes/Visual Analytics - 201820/Tarea 4/miguelfeijoo.github.io/Delitos2018/data/processed/df_amenazas2017_muni.csv', encoding='utf-8', index=False)\n",
    "df_amenazas2017_zona.to_csv('C:/Users/Lenovo/Documents/Universidad de los Andes/Visual Analytics - 201820/Tarea 4/miguelfeijoo.github.io/Delitos2018/data/processed/df_amenazas2017_zona.csv', encoding='utf-8', index=False)\n",
    "df_amenazas2017_sexo.to_csv('C:/Users/Lenovo/Documents/Universidad de los Andes/Visual Analytics - 201820/Tarea 4/miguelfeijoo.github.io/Delitos2018/data/processed/df_amenazas2017_sexo.csv', encoding='utf-8', index=False)\n",
    "df_amenazas2017_total.to_csv('C:/Users/Lenovo/Documents/Universidad de los Andes/Visual Analytics - 201820/Tarea 4/miguelfeijoo.github.io/Delitos2018/data/processed/df_amenazas2017_total.csv', encoding='utf-8', index=False)\n",
    "\n",
    "df_amenazas2018_depto.to_csv('C:/Users/Lenovo/Documents/Universidad de los Andes/Visual Analytics - 201820/Tarea 4/miguelfeijoo.github.io/Delitos2018/data/processed/df_amenazas2018_depto.csv', encoding='utf-8', index=False)\n",
    "df_amenazas2018_muni.to_csv('C:/Users/Lenovo/Documents/Universidad de los Andes/Visual Analytics - 201820/Tarea 4/miguelfeijoo.github.io/Delitos2018/data/processed/df_amenazas2018_muni.csv', encoding='utf-8', index=False)\n",
    "df_amenazas2018_zona.to_csv('C:/Users/Lenovo/Documents/Universidad de los Andes/Visual Analytics - 201820/Tarea 4/miguelfeijoo.github.io/Delitos2018/data/processed/df_amenazas2018_zona.csv', encoding='utf-8', index=False)\n",
    "df_amenazas2018_sexo.to_csv('C:/Users/Lenovo/Documents/Universidad de los Andes/Visual Analytics - 201820/Tarea 4/miguelfeijoo.github.io/Delitos2018/data/processed/df_amenazas2018_sexo.csv', encoding='utf-8', index=False)\n",
    "df_amenazas2018_total.to_csv('C:/Users/Lenovo/Documents/Universidad de los Andes/Visual Analytics - 201820/Tarea 4/miguelfeijoo.github.io/Delitos2018/data/processed/df_amenazas2018_total.csv', encoding='utf-8', index=False)\n",
    "\n"
   ]
  },
  {
   "cell_type": "code",
   "execution_count": 8,
   "metadata": {},
   "outputs": [],
   "source": [
    "df_delSexuales2017_depto.to_csv('C:/Users/Lenovo/Documents/Universidad de los Andes/Visual Analytics - 201820/Tarea 4/miguelfeijoo.github.io/Delitos2018/data/processed/df_delSexuales2017_depto.csv', encoding='utf-8', index=False)\n",
    "df_delSexuales2017_muni.to_csv('C:/Users/Lenovo/Documents/Universidad de los Andes/Visual Analytics - 201820/Tarea 4/miguelfeijoo.github.io/Delitos2018/data/processed/df_delSexuales2017_muni.csv', encoding='utf-8', index=False)\n",
    "df_delSexuales2017_zona.to_csv('C:/Users/Lenovo/Documents/Universidad de los Andes/Visual Analytics - 201820/Tarea 4/miguelfeijoo.github.io/Delitos2018/data/processed/df_delSexuales2017_zona.csv', encoding='utf-8', index=False)\n",
    "df_delSexuales2017_sexo.to_csv('C:/Users/Lenovo/Documents/Universidad de los Andes/Visual Analytics - 201820/Tarea 4/miguelfeijoo.github.io/Delitos2018/data/processed/df_delSexuales2017_sexo.csv', encoding='utf-8', index=False)\n",
    "df_delSexuales2017_total.to_csv('C:/Users/Lenovo/Documents/Universidad de los Andes/Visual Analytics - 201820/Tarea 4/miguelfeijoo.github.io/Delitos2018/data/processed/df_delSexuales2017_total.csv', encoding='utf-8', index=False)\n",
    "\n",
    "df_delSexuales2018_depto.to_csv('C:/Users/Lenovo/Documents/Universidad de los Andes/Visual Analytics - 201820/Tarea 4/miguelfeijoo.github.io/Delitos2018/data/processed/df_delSexuales2018_depto.csv', encoding='utf-8', index=False)\n",
    "df_delSexuales2018_muni.to_csv('C:/Users/Lenovo/Documents/Universidad de los Andes/Visual Analytics - 201820/Tarea 4/miguelfeijoo.github.io/Delitos2018/data/processed/df_delSexuales2018_muni.csv', encoding='utf-8', index=False)\n",
    "df_delSexuales2018_zona.to_csv('C:/Users/Lenovo/Documents/Universidad de los Andes/Visual Analytics - 201820/Tarea 4/miguelfeijoo.github.io/Delitos2018/data/processed/df_delSexuales2018_zona.csv', encoding='utf-8', index=False)\n",
    "df_delSexuales2018_sexo.to_csv('C:/Users/Lenovo/Documents/Universidad de los Andes/Visual Analytics - 201820/Tarea 4/miguelfeijoo.github.io/Delitos2018/data/processed/df_delSexuales2018_sexo.csv', encoding='utf-8', index=False)\n",
    "df_delSexuales2018_total.to_csv('C:/Users/Lenovo/Documents/Universidad de los Andes/Visual Analytics - 201820/Tarea 4/miguelfeijoo.github.io/Delitos2018/data/processed/df_delSexuales2018_total.csv', encoding='utf-8', index=False)\n",
    "\n"
   ]
  },
  {
   "cell_type": "code",
   "execution_count": null,
   "metadata": {},
   "outputs": [],
   "source": []
  }
 ],
 "metadata": {
  "kernelspec": {
   "display_name": "Python 3",
   "language": "python",
   "name": "python3"
  },
  "language_info": {
   "codemirror_mode": {
    "name": "ipython",
    "version": 3
   },
   "file_extension": ".py",
   "mimetype": "text/x-python",
   "name": "python",
   "nbconvert_exporter": "python",
   "pygments_lexer": "ipython3",
   "version": "3.7.0"
  }
 },
 "nbformat": 4,
 "nbformat_minor": 2
}
