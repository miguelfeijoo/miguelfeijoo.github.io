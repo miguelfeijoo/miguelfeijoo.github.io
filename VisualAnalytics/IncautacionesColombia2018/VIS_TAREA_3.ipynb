{
 "cells": [
  {
   "cell_type": "code",
   "execution_count": 4,
   "metadata": {},
   "outputs": [],
   "source": [
    "import pandas as pd\n",
    "import calendar"
   ]
  },
  {
   "cell_type": "code",
   "execution_count": 5,
   "metadata": {},
   "outputs": [],
   "source": [
    "infile= 'C:/Users/Lenovo/Documents/Universidad de los Andes/Visual Analytics - 201820/Tarea 3/Incautacion-estupefacientes-2018.csv'"
   ]
  },
  {
   "cell_type": "code",
   "execution_count": 6,
   "metadata": {},
   "outputs": [],
   "source": [
    "df = pd.read_csv(infile)"
   ]
  },
  {
   "cell_type": "code",
   "execution_count": 7,
   "metadata": {},
   "outputs": [],
   "source": [
    "df['FECHA']=pd.to_datetime(df['FECHA'], format=\"%m/%d/%Y\")"
   ]
  },
  {
   "cell_type": "code",
   "execution_count": 8,
   "metadata": {},
   "outputs": [],
   "source": [
    "del df['CÓDIGO DANE']"
   ]
  },
  {
   "cell_type": "code",
   "execution_count": 9,
   "metadata": {},
   "outputs": [],
   "source": [
    "df.to_csv('C:/Users/Lenovo/Documents/Universidad de los Andes/Visual Analytics - 201820/Tarea 3/datos_incautaciones_2018.csv', encoding='utf-8', index=False)"
   ]
  },
  {
   "cell_type": "code",
   "execution_count": 11,
   "metadata": {},
   "outputs": [],
   "source": [
    "df['MES']=df['FECHA'].dt.month"
   ]
  },
  {
   "cell_type": "code",
   "execution_count": 12,
   "metadata": {},
   "outputs": [],
   "source": [
    "df['MES']=df['MES'].apply(lambda x: calendar.month_abbr[x])"
   ]
  },
  {
   "cell_type": "code",
   "execution_count": 13,
   "metadata": {},
   "outputs": [],
   "source": [
    "df_2=df.groupby([\"DEPARTAMENTO\",\"CLASE DE ESTUPEFACIENTE\", \"CLASE DE SITIO\",\"CANTIDAD\",'MES']).size().reset_index(name=\"NUMERO DE INCAUTACIONES\")"
   ]
  },
  {
   "cell_type": "code",
   "execution_count": 14,
   "metadata": {},
   "outputs": [],
   "source": [
    "df_2=df_2.groupby([\"DEPARTAMENTO\",\"CLASE DE ESTUPEFACIENTE\", \"CLASE DE SITIO\",'MES'])[\"CANTIDAD\",\"NUMERO DE INCAUTACIONES\"].sum().reset_index()"
   ]
  },
  {
   "cell_type": "code",
   "execution_count": 18,
   "metadata": {},
   "outputs": [],
   "source": [
    "df_2=df_2.sort_values('CANTIDAD', ascending=False).drop_duplicates(['DEPARTAMENTO',\"CLASE DE ESTUPEFACIENTE\"]).sort_values(['DEPARTAMENTO','CLASE DE ESTUPEFACIENTE']).reset_index()"
   ]
  },
  {
   "cell_type": "code",
   "execution_count": 19,
   "metadata": {},
   "outputs": [],
   "source": [
    "del df_2['index']"
   ]
  },
  {
   "cell_type": "code",
   "execution_count": 110,
   "metadata": {},
   "outputs": [],
   "source": [
    "cantidad_incautada=df.groupby([\"MES\",\"CLASE DE ESTUPEFACIENTE\"])['CANTIDAD'].sum().reset_index(name=\"CANTIDAD_TOTAL_INCAUTADA\")"
   ]
  },
  {
   "cell_type": "code",
   "execution_count": 113,
   "metadata": {},
   "outputs": [],
   "source": [
    "cantidad_incautada=cantidad_incautada.pivot_table('CANTIDAD_TOTAL_INCAUTADA', 'MES', 'CLASE DE ESTUPEFACIENTE').rename_axis(None,1)"
   ]
  },
  {
   "cell_type": "code",
   "execution_count": 114,
   "metadata": {},
   "outputs": [],
   "source": [
    "cantidad_incautada.to_csv('C:/Users/Lenovo/Documents/Universidad de los Andes/Visual Analytics - 201820/Tarea 3/DATOS/CANTIDAD_INCAUTADA.csv', encoding='utf-8', index=True)"
   ]
  },
  {
   "cell_type": "code",
   "execution_count": 123,
   "metadata": {},
   "outputs": [],
   "source": [
    "total_incautaciones=df_2.groupby([\"DEPARTAMENTO\",\"CLASE DE ESTUPEFACIENTE\"])['NUMERO DE INCAUTACIONES'].sum().reset_index(name=\"TOTAL_INCAUTACIONES\")"
   ]
  },
  {
   "cell_type": "code",
   "execution_count": 127,
   "metadata": {},
   "outputs": [],
   "source": [
    "total_incautaciones=total_incautaciones.pivot_table(\"TOTAL_INCAUTACIONES\", 'DEPARTAMENTO', 'CLASE DE ESTUPEFACIENTE').rename_axis(None,1)"
   ]
  },
  {
   "cell_type": "code",
   "execution_count": 128,
   "metadata": {},
   "outputs": [],
   "source": [
    "total_incautaciones.to_csv('C:/Users/Lenovo/Documents/Universidad de los Andes/Visual Analytics - 201820/Tarea 3/DATOS/INCAUTACIONES_DEPARTAMENTO.csv', encoding='utf-8', index=True)"
   ]
  },
  {
   "cell_type": "code",
   "execution_count": 135,
   "metadata": {},
   "outputs": [],
   "source": [
    "total_droga_incautada=df_2.groupby([\"MES\",\"CLASE DE ESTUPEFACIENTE\"])['NUMERO DE INCAUTACIONES'].sum().reset_index(name=\"TOTAL_INCAUTADA_DROGA\")"
   ]
  },
  {
   "cell_type": "code",
   "execution_count": 137,
   "metadata": {},
   "outputs": [],
   "source": [
    "total_droga_incautada=total_droga_incautada.pivot_table(\"TOTAL_INCAUTADA_DROGA\", 'MES', 'CLASE DE ESTUPEFACIENTE').rename_axis(None,1)"
   ]
  },
  {
   "cell_type": "code",
   "execution_count": 138,
   "metadata": {},
   "outputs": [],
   "source": [
    "total_droga_incautada.to_csv('C:/Users/Lenovo/Documents/Universidad de los Andes/Visual Analytics - 201820/Tarea 3/DATOS/INCAUTACIONES_TOTAL.csv', encoding='utf-8', index=True)"
   ]
  },
  {
   "cell_type": "code",
   "execution_count": 175,
   "metadata": {},
   "outputs": [],
   "source": [
    "incautaciones_sitio=df_2.groupby([\"MES\",\"DEPARTAMENTO\",\"CLASE DE ESTUPEFACIENTE\"])['NUMERO DE INCAUTACIONES'].sum().reset_index(name=\"INCAUTACIONES_POR_SITIO\")"
   ]
  },
  {
   "cell_type": "code",
   "execution_count": 176,
   "metadata": {},
   "outputs": [],
   "source": [
    "incautaciones_sitio=incautaciones_sitio.pivot_table(\"INCAUTACIONES_POR_SITIO\", ['MES','DEPARTAMENTO'],'CLASE DE ESTUPEFACIENTE' ).rename_axis(None,1)"
   ]
  },
  {
   "cell_type": "code",
   "execution_count": 177,
   "metadata": {},
   "outputs": [],
   "source": [
    "incautaciones_sitio.to_csv('C:/Users/Lenovo/Documents/Universidad de los Andes/Visual Analytics - 201820/Tarea 3/DATOS/INCAUTACIONES_SITIO_depto.csv', encoding='utf-8', index=True)"
   ]
  },
  {
   "cell_type": "code",
   "execution_count": 147,
   "metadata": {},
   "outputs": [],
   "source": [
    "cantidad_incautaciones_sitio=df_2.groupby([\"CLASE DE ESTUPEFACIENTE\",\"CLASE DE SITIO\"])['CANTIDAD'].sum().reset_index(name=\"CANTIDAD_INCAUTACIONES_POR_SITIO\")"
   ]
  },
  {
   "cell_type": "code",
   "execution_count": 149,
   "metadata": {},
   "outputs": [],
   "source": [
    "cantidad_incautaciones_sitio=cantidad_incautaciones_sitio.pivot_table(\"CANTIDAD_INCAUTACIONES_POR_SITIO\", 'CLASE DE SITIO', 'CLASE DE ESTUPEFACIENTE').rename_axis(None,1)"
   ]
  },
  {
   "cell_type": "code",
   "execution_count": 150,
   "metadata": {},
   "outputs": [],
   "source": [
    "cantidad_incautaciones_sitio.to_csv('C:/Users/Lenovo/Documents/Universidad de los Andes/Visual Analytics - 201820/Tarea 3/DATOS/CANTIDAD_INCAUTACIONES_SITIO.csv', encoding='utf-8', index=True)"
   ]
  },
  {
   "cell_type": "code",
   "execution_count": null,
   "metadata": {},
   "outputs": [],
   "source": [
    "incautaciones_sitio.to_csv('C:/Users/Lenovo/Documents/Universidad de los Andes/Visual Analytics - 201820/Tarea 3/DATOS/INCAUTACIONES_SITIO.csv', encoding='utf-8', index=True)"
   ]
  },
  {
   "cell_type": "code",
   "execution_count": 255,
   "metadata": {},
   "outputs": [],
   "source": [
    "df_2.to_csv('C:/Users/Lenovo/Documents/Universidad de los Andes/Visual Analytics - 201820/Tarea 3/INCAUTACIONES.csv', encoding='utf-8', index=False)"
   ]
  }
 ],
 "metadata": {
  "kernelspec": {
   "display_name": "Python 3",
   "language": "python",
   "name": "python3"
  },
  "language_info": {
   "codemirror_mode": {
    "name": "ipython",
    "version": 3
   },
   "file_extension": ".py",
   "mimetype": "text/x-python",
   "name": "python",
   "nbconvert_exporter": "python",
   "pygments_lexer": "ipython3",
   "version": "3.7.0"
  }
 },
 "nbformat": 4,
 "nbformat_minor": 2
}
